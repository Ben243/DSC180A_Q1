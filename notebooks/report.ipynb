{
 "cells": [
  {
   "cell_type": "markdown",
   "metadata": {},
   "source": [
    "# Introduction\n",
    "\n",
    "Given a time period of data about what packets are being sent through a conversation between these devices, we attempt to recover and predict the packet loss ratio (how many packets are not received per amount of packets sent) and latency (how long it takes for information to reach the recipient). \n",
    "\n",
    "Packet loss and latency are two of the many variables that affect the quality of an internet connection. This model could assist in determining which aspects of the network need improvement and can give insight into developing a better product. "
   ]
  },
  {
   "cell_type": "markdown",
   "metadata": {},
   "source": [
    "![alt text](figures/100-500-10000-50000_hist.png)\n",
    "![alt text](figures/100-500_amp.png)\n",
    "![alt text](figures/100-500_mean.png)\n",
    "![alt text](figures/10000-50000_amp.png)\n",
    "![alt text](figures/10000-50000_mean.png)\n",
    "![alt text](figures/correlation_matrix.png)\n",
    "![alt text](figures/label_frequency.png)\n",
    "![alt text](figures/test_latency_sensitivity_curve.png)\n",
    "![alt text](figures/test_loss_sensitivity_curve.png)\n",
    "![alt text](figures/test_residual_latency_plot.png)\n",
    "![alt text](figures/test_residual_loss_plot.png)"
   ]
  }
 ],
 "metadata": {
  "hide_input": false,
  "interpreter": {
   "hash": "3efa28d850846299363cee4a1b6e6d22aa7c891c2d9d9a35ede505877a2f2f8b"
  },
  "kernelspec": {
   "display_name": "Python 3.7.10 64-bit ('sklearn': conda)",
   "name": "python3"
  },
  "language_info": {
   "codemirror_mode": {
    "name": "ipython",
    "version": 3
   },
   "file_extension": ".py",
   "mimetype": "text/x-python",
   "name": "python",
   "nbconvert_exporter": "python",
   "pygments_lexer": "ipython3",
   "version": "3.7.10"
  }
 },
 "nbformat": 4,
 "nbformat_minor": 4
}
