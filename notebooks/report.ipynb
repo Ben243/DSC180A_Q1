{
 "cells": [
  {
   "cell_type": "code",
   "execution_count": 1,
   "metadata": {},
   "outputs": [],
   "source": [
    "%matplotlib inline\n",
    "import pandas as pd\n",
    "import numpy as np\n",
    "from sklearn.impute import SimpleImputer\n",
    "from sklearn.decomposition import PCA\n",
    "import matplotlib.pyplot as plt\n",
    "import seaborn as sns\n",
    "import pickle\n",
    "from os import listdir\n",
    "from os.path import join\n",
    "\n",
    "sys.path.append('../')\n",
    "sys.path.insert(0, '../src')\n",
    "\n",
    "from etl import generate_labels"
   ]
  },
  {
   "cell_type": "markdown",
   "metadata": {},
   "source": [
    "# Introduction\n",
    "\n",
    "Given a time period of data about what packets are being sent through a conversation between these devices, we attempt to recover and predict the packet loss ratio (how many packets are not received per amount of packets sent) and latency (how long it takes for information to reach the recipient). \n",
    "\n",
    "Packet loss and latency are two of the many variables that affect the quality of an internet connection. This model could assist in determining which aspects of the network need improvement and can give insight into developing a better product. "
   ]
  },
  {
   "cell_type": "markdown",
   "metadata": {},
   "source": [
    "## Methods\n",
    "\n",
    "Using the features listed below:\n"
   ]
  },
  {
   "cell_type": "code",
   "execution_count": 2,
   "metadata": {},
   "outputs": [],
   "source": [
    "loss_features = [\n",
    "    \"mean_tdelta_min\",\n",
    "    \"mean_tdelta_max\",\n",
    "    \"mean_tdelta_mean\",\n",
    "    \"max_tdelta_var\",\n",
    "    \"1->2Bytes_var\",\n",
    "    \"2->1Bytes_var\",\n",
    "    \"1->2Pkts_var\",\n",
    "    \"2->1Bytes_var\",\n",
    "    \"1->2Pkts_rolling_2s_mean_var\",\n",
    "    \"2->1Pkts_rolling_2s_mean_var\",\n",
    "    \"1->2Pkts_rolling_3s_mean_var\",\n",
    "    \"2->1Pkts_rolling_3s_mean_var\",\n",
    "]\n",
    "\n",
    "latency_features = [\n",
    "    \"1->2Bytes_min\",\n",
    "    \"1->2Bytes_max\",\n",
    "    \"1->2Bytes_mean\",\n",
    "    \"1->2Bytes_median\",\n",
    "    \"1->2Bytes_std\",\n",
    "    \"1->2Bytes_var\",\n",
    "    \"2->1Bytes_min\",\n",
    "    \"2->1Bytes_max\",\n",
    "    \"2->1Bytes_mean\",\n",
    "    \"2->1Bytes_median\",\n",
    "    \"2->1Bytes_std\",\n",
    "    \"2->1Bytes_var\",\n",
    "    \"1->2Pkts_min\",\n",
    "    \"1->2Pkts_max\",\n",
    "    \"1->2Pkts_mean\",\n",
    "    \"1->2Pkts_median\",\n",
    "    \"1->2Pkts_std\",\n",
    "    \"1->2Pkts_var\",\n",
    "    \"1->2Pkts_sum\",\n",
    "    \"2->1Pkts_min\",\n",
    "    \"2->1Pkts_max\",\n",
    "    \"2->1Pkts_mean\",\n",
    "    \"2->1Pkts_median\",\n",
    "    \"2->1Pkts_std\",\n",
    "    \"2->1Pkts_var\",\n",
    "    \"2->1Pkts_sum\",\n",
    "    \"mean_tdelta_min\",\n",
    "    \"mean_tdelta_max\",\n",
    "    \"mean_tdelta_mean\",\n",
    "    \"mean_tdelta_var\",\n",
    "    \"mean_tdelta_std\",\n",
    "    \"max_tdelta_max\",\n",
    "    \"max_tdelta_mean\",\n",
    "    \"max_tdelta_var\",\n",
    "    \"max_tdelta_std\",\n",
    "    \"1->2Pkts_rolling_2s_mean_min\",\n",
    "    \"1->2Pkts_rolling_2s_mean_max\",\n",
    "    \"1->2Pkts_rolling_2s_mean_var\",\n",
    "    \"1->2Pkts_rolling_2s_mean_std\",\n",
    "    \"1->2Pkts_rolling_2s_mean_sum\",\n",
    "    \"2->1Pkts_rolling_2s_mean_min\",\n",
    "    \"2->1Pkts_rolling_2s_mean_max\",\n",
    "    \"2->1Pkts_rolling_2s_mean_var\",\n",
    "    \"2->1Pkts_rolling_2s_mean_std\",\n",
    "    \"2->1Pkts_rolling_2s_mean_sum\",\n",
    "    \"1->2Pkts_rolling_3s_mean_min\",\n",
    "    \"1->2Pkts_rolling_3s_mean_max\",\n",
    "    \"1->2Pkts_rolling_3s_mean_var\",\n",
    "    \"1->2Pkts_rolling_3s_mean_std\",\n",
    "    \"1->2Pkts_rolling_3s_mean_sum\",\n",
    "    \"2->1Pkts_rolling_3s_mean_min\",\n",
    "    \"2->1Pkts_rolling_3s_mean_max\",\n",
    "    \"2->1Pkts_rolling_3s_mean_var\",\n",
    "    \"2->1Pkts_rolling_3s_mean_std\",\n",
    "    \"2->1Pkts_rolling_3s_mean_sum\",\n",
    "    \"2->1_interpacket_mean\",\n",
    "    \"1->2_interpacket_mean\",\n",
    "    \"pred_loss\"\n",
    "]"
   ]
  },
  {
   "cell_type": "code",
   "execution_count": 3,
   "metadata": {},
   "outputs": [],
   "source": [
    "## training data\n",
    "data_path = '../data/out'\n",
    "featurelst = listdir(data_path)\n",
    "featurelst.sort()\n",
    "data = pd.read_csv(join(data_path,featurelst[-1]))\n",
    "loss_X = SimpleImputer(missing_values=np.nan, strategy='mean').fit_transform(data[loss_features]) \n",
    "loss_y = np.log(1/data['label_packet_loss']) #log loss\n",
    "\n",
    "## test data\n",
    "test = pd.read_csv('../test/test_features/test_featureset.csv')\n",
    "# test.head()\n",
    "loss_test_X = SimpleImputer(missing_values=np.nan, strategy='mean').fit_transform(test[loss_features]) \n",
    "loss_test_y = np.log(1/test['label_packet_loss']) #log loss"
   ]
  },
  {
   "cell_type": "markdown",
   "metadata": {},
   "source": [
    "### The final model:"
   ]
  },
  {
   "cell_type": "markdown",
   "metadata": {},
   "source": [
    "#### Loss Model"
   ]
  },
  {
   "cell_type": "code",
   "execution_count": 4,
   "metadata": {},
   "outputs": [
    {
     "data": {
      "text/plain": [
       "RandomForestRegressor(max_depth=15, n_estimators=500, n_jobs=-1)"
      ]
     },
     "execution_count": 4,
     "metadata": {},
     "output_type": "execute_result"
    }
   ],
   "source": [
    "# this assumes you have run the etl/data, features, and train targets\n",
    "loss_model = pickle.load(open('../models/loss_model.pyc', 'rb'))\n",
    "latency_model = pickle.load(open('../models/latency_model.pyc', 'rb'))\n",
    "latency_model"
   ]
  },
  {
   "cell_type": "code",
   "execution_count": 5,
   "metadata": {},
   "outputs": [
    {
     "data": {
      "text/plain": [
       "0.9982121936800428"
      ]
     },
     "execution_count": 5,
     "metadata": {},
     "output_type": "execute_result"
    }
   ],
   "source": [
    "loss_model.score(loss_X, loss_y)\n",
    "loss_model.score(loss_test_X, loss_test_y)"
   ]
  },
  {
   "cell_type": "code",
   "execution_count": 8,
   "metadata": {},
   "outputs": [],
   "source": [
    "upper = .15\n",
    "lower = 0\n",
    "step = .0025\n",
    "thresh_l = [i*step for i in range(int((upper-lower) / step))]\n",
    "loss_acc = [0 for i in range(int((upper-lower) / step))]\n",
    "loss_test_acc = [0 for i in range(int((upper-lower) / step))]\n",
    "\n",
    "def get_acc(target, pred, thresh):\n",
    "    latency_diff = (target - pred) / target\n",
    "    return sum(abs(latency_diff) <= thresh) / len(target)"
   ]
  },
  {
   "cell_type": "code",
   "execution_count": 9,
   "metadata": {},
   "outputs": [
    {
     "data": {
      "text/plain": [
       "<matplotlib.legend.Legend at 0x20907598608>"
      ]
     },
     "execution_count": 9,
     "metadata": {},
     "output_type": "execute_result"
    },
    {
     "data": {
      "image/png": "[encoded data removed]",
      "text/plain": [
       "<Figure size 432x288 with 1 Axes>"
      ]
     },
     "metadata": {
      "needs_background": "light"
     },
     "output_type": "display_data"
    }
   ],
   "source": [
    "loss_yhat = loss_model.predict(loss_X)\n",
    "loss_test_yhat = loss_model.predict(loss_test_X)\n",
    "\n",
    "for i in range(len(thresh_l)):\n",
    "    loss_acc[i] += get_acc(loss_y, loss_yhat, thresh_l[i])\n",
    "    loss_test_acc[i] = get_acc(loss_test_y, loss_test_yhat, thresh_l[i])\n",
    "plt.plot(thresh_l, loss_acc, label='test_latency')\n",
    "plt.plot(thresh_l, loss_test_acc, label='training_latency')\n",
    "plt.legend()"
   ]
  },
  {
   "cell_type": "markdown",
   "metadata": {},
   "source": [
    "#### Latency Model"
   ]
  },
  {
   "cell_type": "code",
   "execution_count": 13,
   "metadata": {},
   "outputs": [],
   "source": [
    "PCA_COMPONENTS = 10\n",
    "\n",
    "data['pred_loss'] = loss_yhat\n",
    "latency_X = SimpleImputer(missing_values=np.nan, strategy='mean').fit_transform(data[latency_features]) \n",
    "latency_X = PCA(n_components=PCA_COMPONENTS).fit_transform(latency_X)\n",
    "latency_y = data['label_latency']\n",
    "\n",
    "## test data\n",
    "test['pred_loss'] = loss_test_yhat\n",
    "latency_test_X = SimpleImputer(missing_values=np.nan, strategy='mean').fit_transform(test[latency_features]) \n",
    "latency_test_X = PCA(n_components=PCA_COMPONENTS).fit_transform(latency_test_X)\n",
    "latency_test_y = test['label_latency']"
   ]
  },
  {
   "cell_type": "code",
   "execution_count": 14,
   "metadata": {},
   "outputs": [
    {
     "data": {
      "text/plain": [
       "<matplotlib.legend.Legend at 0x209001fe488>"
      ]
     },
     "execution_count": 14,
     "metadata": {},
     "output_type": "execute_result"
    },
    {
     "data": {
      "image/png": "[encoded data removed]",
      "text/plain": [
       "<Figure size 432x288 with 1 Axes>"
      ]
     },
     "metadata": {
      "needs_background": "light"
     },
     "output_type": "display_data"
    }
   ],
   "source": [
    "latency_yhat = latency_model.predict(latency_X)\n",
    "latency_test_yhat = latency_model.predict(latency_test_X)\n",
    "\n",
    "latency_acc = [0 for i in range(int((upper-lower) / step))]\n",
    "latency_test_acc = [0 for i in range(int((upper-lower) / step))]\n",
    "for i in range(len(thresh_l)):\n",
    "    latency_acc[i] += get_acc(latency_y, latency_yhat, thresh_l[i])\n",
    "    latency_test_acc[i] = get_acc(latency_test_y, latency_test_yhat, thresh_l[i])\n",
    "plt.plot(thresh_l, latency_acc, label='test_latency')\n",
    "plt.plot(thresh_l, latency_test_acc, label='training_latency')\n",
    "plt.legend()"
   ]
  },
  {
   "cell_type": "code",
   "execution_count": null,
   "metadata": {},
   "outputs": [],
   "source": []
  }
 ],
 "metadata": {
  "kernelspec": {
   "display_name": "Python 3",
   "language": "python",
   "name": "python3"
  },
  "language_info": {
   "codemirror_mode": {
    "name": "ipython",
    "version": 3
   },
   "file_extension": ".py",
   "mimetype": "text/x-python",
   "name": "python",
   "nbconvert_exporter": "python",
   "pygments_lexer": "ipython3",
   "version": "3.7.10"
  }
 },
 "nbformat": 4,
 "nbformat_minor": 4
}
